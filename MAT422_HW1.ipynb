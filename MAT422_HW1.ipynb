{
  "nbformat": 4,
  "nbformat_minor": 0,
  "metadata": {
    "colab": {
      "provenance": [],
      "authorship_tag": "ABX9TyN5ycbjE96si/MBB3Ioqj5R",
      "include_colab_link": true
    },
    "kernelspec": {
      "name": "python3",
      "display_name": "Python 3"
    },
    "language_info": {
      "name": "python"
    }
  },
  "cells": [
    {
      "cell_type": "markdown",
      "metadata": {
        "id": "view-in-github",
        "colab_type": "text"
      },
      "source": [
        "<a href=\"https://colab.research.google.com/github/bigboivan/Acoustic-Levitator-Project/blob/main/MAT422_HW1.ipynb\" target=\"_parent\"><img src=\"https://colab.research.google.com/assets/colab-badge.svg\" alt=\"Open In Colab\"/></a>"
      ]
    },
    {
      "cell_type": "code",
      "execution_count": 6,
      "metadata": {
        "colab": {
          "base_uri": "https://localhost:8080/"
        },
        "id": "WfZRJ_fRHUU3",
        "outputId": "bdfc4665-07f7-4911-9547-51ff6dcec33a"
      },
      "outputs": [
        {
          "output_type": "execute_result",
          "data": {
            "text/plain": [
              "array([[ 2,  2, -1,  4],\n",
              "       [-1,  2, -1, -2],\n",
              "       [ 0,  6, -1,  4],\n",
              "       [ 3,  4,  0,  0]])"
            ]
          },
          "metadata": {},
          "execution_count": 6
        }
      ],
      "source": [
        "## HW 1 - Ivan Matyushov\n",
        "## MAT 422 - Mathematical Methods in Data Science\n",
        "\n",
        "## Part 1 - Linear Combinations\n",
        "import numpy as np\n",
        "import matplotlib.pyplot as plt\n",
        "\n",
        "#Here's matrix with linear combination of vectors\n",
        "linear_combo = np.array([[2,2,-1,4], [-1,2,-1,-2], [0,6,-1,4], [3,4,0,0]])\n",
        "linear_combo\n"
      ]
    },
    {
      "cell_type": "code",
      "source": [
        "#One way to check linear independence is see if matrix determinant is non-zero.\n",
        "linear_ind = np.array([[1,3,2], [3,1,-2], [-1,5,3]])\n",
        "det = np.linalg.det(linear_ind)\n",
        "det\n",
        "\n",
        "#Non-zero determinant indicates linear independence"
      ],
      "metadata": {
        "id": "xPemzUGfIRdd"
      },
      "execution_count": null,
      "outputs": []
    },
    {
      "cell_type": "code",
      "source": [
        "# 1.2.2 - Orthogonality\n",
        "list1 = [2,2,-6]\n",
        "list2 = [3,3,2]\n",
        "v1 = np.array(list1)\n",
        "v2 = np.array(list2)\n",
        "dot_prod = np.dot(v1,v2)\n",
        "dot_prod\n",
        "#if dot product is 0, then orthogonal"
      ],
      "metadata": {
        "id": "HyDK8KICIOJ-"
      },
      "execution_count": null,
      "outputs": []
    },
    {
      "cell_type": "code",
      "source": [
        "v1_norm = v1/(4+4+36)\n",
        "v1_norm\n",
        "v2_norm = v2/(9+9+4)\n",
        "v2_norm\n",
        "\n",
        "#normalized the vectors to make them orthonormal\n",
        "proj = np.dot(dot_prod/(np.dot(v1,v1)), v1)\n",
        "proj"
      ],
      "metadata": {
        "id": "Qi3ifQ4BIL4E"
      },
      "execution_count": null,
      "outputs": []
    },
    {
      "cell_type": "code",
      "source": [
        "#An orthogonal vector projection on itself gives the original vector\n",
        "list3 = [1,5,3]\n",
        "list4 = [5,2,1]\n",
        "v3 = np.array(list3)\n",
        "v4 = np.array(list4)\n",
        "dot_prod1 = np.dot(v3,v4)\n",
        "dot_prod1\n",
        "\n",
        "proj1 = np.dot(dot_prod1/(np.dot(v3,v3)), v3)\n",
        "proj1"
      ],
      "metadata": {
        "colab": {
          "base_uri": "https://localhost:8080/"
        },
        "id": "GXhnkhjfIDop",
        "outputId": "0111b05c-b728-4b03-dd7e-249e5d20689f"
      },
      "execution_count": 2,
      "outputs": [
        {
          "output_type": "execute_result",
          "data": {
            "text/plain": [
              "array([0.51428571, 2.57142857, 1.54285714])"
            ]
          },
          "metadata": {},
          "execution_count": 2
        }
      ]
    },
    {
      "cell_type": "code",
      "source": [
        "# Plotting orthogonal vectors\n",
        "vect1 = np.array([1,1])\n",
        "vect2 = np.array([1,-1])\n",
        "fig, ax = plt.subplots()\n",
        "\n",
        "ax.quiver(0,0,vect1[0],vect1[1], angles='xy', scale_units='xy', scale=1, color='r')\n",
        "ax.quiver(0,0,vect2[0],vect2[1], angles='xy', scale_units='xy', scale=1, color='b')\n",
        "\n",
        "ax.set_xlim([-2, 2])\n",
        "ax.set_ylim([-2, 2])\n",
        "\n",
        "plt.grid()\n",
        "plt.show()"
      ],
      "metadata": {
        "colab": {
          "base_uri": "https://localhost:8080/",
          "height": 435
        },
        "id": "b1AEWJOuH-qZ",
        "outputId": "19642838-9185-4805-e2f3-97174c52e180"
      },
      "execution_count": 3,
      "outputs": [
        {
          "output_type": "display_data",
          "data": {
            "text/plain": [
              "<Figure size 640x480 with 1 Axes>"
            ],
            "image/png": "[encoded data removed]"
          },
          "metadata": {}
        }
      ]
    },
    {
      "cell_type": "code",
      "source": [
        "# Finding eigenvalues and Eigenvectors\n",
        "matrix1 = np.array([[2,1,3], [1,2,3], [3,3,20]])\n",
        "lam, v = np.linalg.eig(matrix1)\n",
        "matrix1\n",
        "\n",
        "print(\"Here are the eigenvalues of the above matrix:\\n\", lam)\n",
        "\n",
        "print(\"Here are the eigenvectors of the above matrix:\\n\", v)"
      ],
      "metadata": {
        "colab": {
          "base_uri": "https://localhost:8080/"
        },
        "id": "8u3qckZ5H4Y4",
        "outputId": "6ca006dd-8e7e-4505-dd62-5102ecf134f9"
      },
      "execution_count": 4,
      "outputs": [
        {
          "output_type": "stream",
          "name": "stdout",
          "text": [
            "Here are the eigenvalues of the above matrix:\n",
            " [21.  1.  2.]\n",
            "Here are the eigenvectors of the above matrix:\n",
            " [[-1.62221421e-01 -7.07106781e-01 -6.88247202e-01]\n",
            " [-1.62221421e-01  7.07106781e-01 -6.88247202e-01]\n",
            " [-9.73328527e-01 -1.67707020e-16  2.29415734e-01]]\n"
          ]
        }
      ]
    },
    {
      "cell_type": "code",
      "source": [
        "# Gram Schmidt Process\n",
        "A = np.array([[2, 1, 2.0], [3, -1, 4], [1, 3, 2]])\n",
        "n = A.shape[1] #extracts number of columns from A matrix\n",
        "\n",
        "for j in range(n):\n",
        "# Orthogonilzes the vector in column j by subtracting\n",
        "# its projection onto each of the previous vectors.\n",
        "   for k in range(j):\n",
        "      A[:, j] = A[:, j] - np.dot(A[:, k], A[:, j]) * A[:, k]\n",
        "   A[:, j] = A[:, j] / np.linalg.norm(A[:, j]) #Normalizes all the vectors\n",
        "\n",
        "print(A)"
      ],
      "metadata": {
        "colab": {
          "base_uri": "https://localhost:8080/"
        },
        "id": "dmH3gdRGH0xs",
        "outputId": "43f11cf1-33ff-4748-e5de-83030a89574f"
      },
      "execution_count": 5,
      "outputs": [
        {
          "output_type": "stream",
          "name": "stdout",
          "text": [
            "[[ 0.53452248  0.21821789 -0.81649658]\n",
            " [ 0.80178373 -0.43643578  0.40824829]\n",
            " [ 0.26726124  0.87287156  0.40824829]]\n"
          ]
        }
      ]
    }
  ]
}